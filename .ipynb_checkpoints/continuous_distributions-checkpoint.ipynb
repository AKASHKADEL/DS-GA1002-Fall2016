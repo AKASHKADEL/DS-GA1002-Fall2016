{
 "cells": [
  {
   "cell_type": "markdown",
   "metadata": {},
   "source": [
    "Let's review the important continuous distributions following the class notes at section 4.3:\n",
    "- Uniform: $X$ with $f_X(x) = \\frac{1}{b-a}$ on $[a, b]$ and 0 elsewhere\n",
    "- Exponential: $X$ with $f_X(x) = \\lambda e^{\\lambda x}$ for positive $x$\n",
    "- Gaussian: $X$ with $f_X(x) = \\frac{1}{\\sqrt{2\\pi}\\sigma} e^{-\\frac{(x-\\mu)^2}{2\\sigma^2}}$\n",
    "\n",
    "We will use the isolet spoken letter dataset.\n",
    "\n",
    "\"This data set was generated as follows.\n",
    " 150 subjects spoke the name of each letter of the alphabet twice.\n",
    " Hence, we have 52 training examples from each speaker.\n",
    " The speakers are grouped into sets of 30 speakers each, and are\n",
    " referred to as isolet1, isolet2, isolet3, isolet4, and isolet5.\n",
    " The data appears in isolet1+2+3+4.data in sequential order, first\n",
    " the speakers from isolet1, then isolet2, and so on.  The test\n",
    " set, isolet5, is a separate file.\"\n"
   ]
  },
  {
   "cell_type": "code",
   "execution_count": 3,
   "metadata": {
    "collapsed": false
   },
   "outputs": [],
   "source": [
    "import pandas as pd\n",
    "import numpy as np\n",
    "import matplotlib.pyplot as plt\n",
    "%matplotlib inline\n",
    "from ipywidgets import interact"
   ]
  },
  {
   "cell_type": "markdown",
   "metadata": {},
   "source": [
    "- Get the data from here https://archive.ics.uci.edu/ml/machine-learning-databases/isolet/\n",
    "- unzip isolet1+2+3+4.data\n",
    "- modify the path below:"
   ]
  },
  {
   "cell_type": "code",
   "execution_count": 4,
   "metadata": {
    "collapsed": true
   },
   "outputs": [],
   "source": [
    "PATH_DATA = '/Users/leventsagun/Downloads/'"
   ]
  },
  {
   "cell_type": "code",
   "execution_count": 7,
   "metadata": {
    "collapsed": false
   },
   "outputs": [],
   "source": [
    "isolet = pd.read_csv(PATH_DATA + 'isolet1+2+3+4.data', header=None)\n",
    "isolet_features = isolet.drop(617, axis=1)\n",
    "isolet_labels = isolet[617]"
   ]
  },
  {
   "cell_type": "markdown",
   "metadata": {},
   "source": [
    "\"The features include spectral coefficients; contour\n",
    " features, sonorant features, pre-sonorant features, and\n",
    " post-sonorant features.  Exact order of appearance of the\n",
    " features is not known.\""
   ]
  },
  {
   "cell_type": "code",
   "execution_count": 53,
   "metadata": {
    "collapsed": false
   },
   "outputs": [
    {
     "data": {
      "text/html": [
       "<div>\n",
       "<table border=\"1\" class=\"dataframe\">\n",
       "  <thead>\n",
       "    <tr style=\"text-align: right;\">\n",
       "      <th></th>\n",
       "      <th>0</th>\n",
       "      <th>1</th>\n",
       "      <th>2</th>\n",
       "      <th>3</th>\n",
       "      <th>4</th>\n",
       "      <th>5</th>\n",
       "      <th>6</th>\n",
       "      <th>7</th>\n",
       "      <th>8</th>\n",
       "      <th>9</th>\n",
       "      <th>...</th>\n",
       "      <th>607</th>\n",
       "      <th>608</th>\n",
       "      <th>609</th>\n",
       "      <th>610</th>\n",
       "      <th>611</th>\n",
       "      <th>612</th>\n",
       "      <th>613</th>\n",
       "      <th>614</th>\n",
       "      <th>615</th>\n",
       "      <th>616</th>\n",
       "    </tr>\n",
       "  </thead>\n",
       "  <tbody>\n",
       "    <tr>\n",
       "      <th>0</th>\n",
       "      <td>-0.4394</td>\n",
       "      <td>-0.093</td>\n",
       "      <td>0.1718</td>\n",
       "      <td>0.462</td>\n",
       "      <td>0.6226</td>\n",
       "      <td>0.4704</td>\n",
       "      <td>0.3578</td>\n",
       "      <td>0.0478</td>\n",
       "      <td>-0.1184</td>\n",
       "      <td>-0.231</td>\n",
       "      <td>...</td>\n",
       "      <td>0.3334</td>\n",
       "      <td>0.4102</td>\n",
       "      <td>0.2052</td>\n",
       "      <td>0.3846</td>\n",
       "      <td>0.359</td>\n",
       "      <td>0.5898</td>\n",
       "      <td>0.3334</td>\n",
       "      <td>0.641</td>\n",
       "      <td>0.5898</td>\n",
       "      <td>-0.4872</td>\n",
       "    </tr>\n",
       "  </tbody>\n",
       "</table>\n",
       "<p>1 rows × 617 columns</p>\n",
       "</div>"
      ],
      "text/plain": [
       "      0      1       2      3       4       5       6       7       8    \\\n",
       "0 -0.4394 -0.093  0.1718  0.462  0.6226  0.4704  0.3578  0.0478 -0.1184   \n",
       "\n",
       "     9     ...       607     608     609     610    611     612     613  \\\n",
       "0 -0.231   ...    0.3334  0.4102  0.2052  0.3846  0.359  0.5898  0.3334   \n",
       "\n",
       "     614     615     616  \n",
       "0  0.641  0.5898 -0.4872  \n",
       "\n",
       "[1 rows x 617 columns]"
      ]
     },
     "execution_count": 53,
     "metadata": {},
     "output_type": "execute_result"
    }
   ],
   "source": [
    "isolet_features[:1]"
   ]
  },
  {
   "cell_type": "markdown",
   "metadata": {},
   "source": [
    "# 1. Uniform \n",
    "We know that there are equal number of samples per letter. Therefore, the distribution of the labels must be uniform between 1 and 26."
   ]
  },
  {
   "cell_type": "code",
   "execution_count": 21,
   "metadata": {
    "collapsed": false
   },
   "outputs": [
    {
     "data": {
      "image/png": "[encoded data removed]",
      "text/plain": [
       "<matplotlib.figure.Figure at 0x115f91210>"
      ]
     },
     "metadata": {},
     "output_type": "display_data"
    }
   ],
   "source": [
    "plt.hist(isolet_labels, 26)\n",
    "plt.show()"
   ]
  },
  {
   "cell_type": "code",
   "execution_count": 22,
   "metadata": {
    "collapsed": true
   },
   "outputs": [],
   "source": [
    "def plot_uniform(num_bins):\n",
    "    plt.hist(isolet_labels, num_bins)\n",
    "    plt.show()"
   ]
  },
  {
   "cell_type": "markdown",
   "metadata": {},
   "source": [
    "**Questions**\n",
    "1. Explain why you see apparently non-uniform histograms when you change the bin size.\n",
    "2. Explain why this is a little cheating and doesn't represent the first distribution at the top of the page. "
   ]
  },
  {
   "cell_type": "code",
   "execution_count": 25,
   "metadata": {
    "collapsed": false
   },
   "outputs": [
    {
     "data": {
      "image/png": "[encoded data removed]",
      "text/plain": [
       "<matplotlib.figure.Figure at 0x1166651d0>"
      ]
     },
     "metadata": {},
     "output_type": "display_data"
    }
   ],
   "source": [
    "interact(plot_uniform, num_bins=(1,52,1));"
   ]
  },
  {
   "cell_type": "markdown",
   "metadata": {},
   "source": [
    "# 2. Exponential"
   ]
  },
  {
   "cell_type": "markdown",
   "metadata": {},
   "source": [
    "# 3. Gaussian\n",
    "Look at the norms of each row:"
   ]
  },
  {
   "cell_type": "code",
   "execution_count": 106,
   "metadata": {
    "collapsed": false
   },
   "outputs": [
    {
     "name": "stdout",
     "output_type": "stream",
     "text": [
      "15.6665118301 0.577099262971\n"
     ]
    },
    {
     "data": {
      "image/png": "[encoded data removed]",
      "text/plain": [
       "<matplotlib.figure.Figure at 0x128c562d0>"
      ]
     },
     "metadata": {},
     "output_type": "display_data"
    }
   ],
   "source": [
    "norms = []\n",
    "for i in isolet_features.index:\n",
    "    norms.append(np.linalg.norm(isolet_features.iloc[i]))\n",
    "    \n",
    "plt.hist(norms, 100, normed=True)\n",
    "mu, sigma = np.mean(norms), np.std(norms)\n",
    "print mu, sigma\n",
    "x = np.linspace(min(norms), max(norms), 100)\n",
    "y = (1/((np.sqrt(2*np.pi)*sigma)))*np.exp(-((x-mu)**2)/(2*sigma**2))\n",
    "plt.plot(x, y, 'r')\n",
    "plt.show()"
   ]
  },
  {
   "cell_type": "code",
   "execution_count": 135,
   "metadata": {
    "collapsed": true
   },
   "outputs": [],
   "source": [
    "# we can generate continuous uniform random variable using the norms above and transforming it"
   ]
  },
  {
   "cell_type": "code",
   "execution_count": null,
   "metadata": {
    "collapsed": true
   },
   "outputs": [],
   "source": []
  },
  {
   "cell_type": "code",
   "execution_count": null,
   "metadata": {
    "collapsed": true
   },
   "outputs": [],
   "source": []
  },
  {
   "cell_type": "code",
   "execution_count": null,
   "metadata": {
    "collapsed": true
   },
   "outputs": [],
   "source": []
  },
  {
   "cell_type": "code",
   "execution_count": null,
   "metadata": {
    "collapsed": true
   },
   "outputs": [],
   "source": []
  },
  {
   "cell_type": "code",
   "execution_count": null,
   "metadata": {
    "collapsed": true
   },
   "outputs": [],
   "source": []
  }
 ],
 "metadata": {
  "kernelspec": {
   "display_name": "Python 2",
   "language": "python",
   "name": "python2"
  },
  "language_info": {
   "codemirror_mode": {
    "name": "ipython",
    "version": 2
   },
   "file_extension": ".py",
   "mimetype": "text/x-python",
   "name": "python",
   "nbconvert_exporter": "python",
   "pygments_lexer": "ipython2",
   "version": "2.7.11"
  }
 },
 "nbformat": 4,
 "nbformat_minor": 0
}
