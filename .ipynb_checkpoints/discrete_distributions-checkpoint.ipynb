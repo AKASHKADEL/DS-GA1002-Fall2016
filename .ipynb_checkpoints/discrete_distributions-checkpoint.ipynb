{
 "cells": [
  {
   "cell_type": "markdown",
   "metadata": {},
   "source": [
    "Let's review the important discrete distributions following the class notes at section 3.2:\n",
    "- Bernoulli: $X$ with $p_X(0) = p$ and $ p_X(1) = 1-p$\n",
    "- Geometric: $X$ with $p_X(k) = (1-p)^{k-1}p$\n",
    "- Binomial: $X$ with $p_X(k) = {n \\choose k} p^k(1-p)^{n-k}$\n",
    "- Poisson: $X$ with $p_X(k) = \\frac{\\lambda^ke^{-\\lambda}}{k!}$\n",
    "\n",
    "We will visit https://github.com/caesar0301/awesome-public-datasets, find a dataset, and ask the right questions that will be modelled by the distributions above. Let's take a look at the \"NYC Uber trip data April 2014 to September 2014\"."
   ]
  },
  {
   "cell_type": "code",
   "execution_count": 71,
   "metadata": {
    "collapsed": false
   },
   "outputs": [],
   "source": [
    "import pandas as pd\n",
    "import numpy as np\n",
    "import matplotlib.pyplot as plt\n",
    "%matplotlib inline\n",
    "from ipywidgets import interact"
   ]
  },
  {
   "cell_type": "markdown",
   "metadata": {},
   "source": [
    "- Clone the repo for data at https://github.com/fivethirtyeight/uber-tlc-foil-response.git \n",
    "- unzip uber-raw-data-janjune-15\n",
    "- modify the path below:"
   ]
  },
  {
   "cell_type": "code",
   "execution_count": 142,
   "metadata": {
    "collapsed": false
   },
   "outputs": [
    {
     "data": {
      "text/html": [
       "<div>\n",
       "<table border=\"1\" class=\"dataframe\">\n",
       "  <thead>\n",
       "    <tr style=\"text-align: right;\">\n",
       "      <th></th>\n",
       "      <th>Dispatching_base_num</th>\n",
       "      <th>Pickup_date</th>\n",
       "      <th>Affiliated_base_num</th>\n",
       "      <th>locationID</th>\n",
       "    </tr>\n",
       "  </thead>\n",
       "  <tbody>\n",
       "    <tr>\n",
       "      <th>0</th>\n",
       "      <td>B02617</td>\n",
       "      <td>2015-05-17 09:47:00</td>\n",
       "      <td>B02617</td>\n",
       "      <td>141</td>\n",
       "    </tr>\n",
       "    <tr>\n",
       "      <th>1</th>\n",
       "      <td>B02617</td>\n",
       "      <td>2015-05-17 09:47:00</td>\n",
       "      <td>B02617</td>\n",
       "      <td>65</td>\n",
       "    </tr>\n",
       "    <tr>\n",
       "      <th>2</th>\n",
       "      <td>B02617</td>\n",
       "      <td>2015-05-17 09:47:00</td>\n",
       "      <td>B02617</td>\n",
       "      <td>100</td>\n",
       "    </tr>\n",
       "  </tbody>\n",
       "</table>\n",
       "</div>"
      ],
      "text/plain": [
       "  Dispatching_base_num          Pickup_date Affiliated_base_num  locationID\n",
       "0               B02617  2015-05-17 09:47:00              B02617         141\n",
       "1               B02617  2015-05-17 09:47:00              B02617          65\n",
       "2               B02617  2015-05-17 09:47:00              B02617         100"
      ]
     },
     "execution_count": 142,
     "metadata": {},
     "output_type": "execute_result"
    }
   ],
   "source": [
    "PATH_DATA = \"/Users/leventsagun/uber-tlc-foil-response/uber-trip-data/\"\n",
    "all_pickups = pd.read_csv(PATH_DATA + 'uber-raw-data-janjune-15.csv')\n",
    "all_pickups[:3]"
   ]
  },
  {
   "cell_type": "code",
   "execution_count": 143,
   "metadata": {
    "collapsed": false
   },
   "outputs": [
    {
     "name": "stdout",
     "output_type": "stream",
     "text": [
      "Total number of data points:  14270479\n",
      "Distinct location id's:  262\n",
      "Distinct pickup dates:  2744783\n"
     ]
    }
   ],
   "source": [
    "print 'Total number of data points: ', len(all_pickups)\n",
    "print \"Distinct location id's: \", len(all_pickups['locationID'].unique())\n",
    "print \"Distinct pickup dates: \", len(all_pickups['Pickup_date'].unique())"
   ]
  },
  {
   "cell_type": "markdown",
   "metadata": {},
   "source": [
    "# 1. Bernoulli\n",
    "We can model the rides that take place before noon as a Binomial variable. What probability should we assign?"
   ]
  },
  {
   "cell_type": "code",
   "execution_count": 144,
   "metadata": {
    "collapsed": false
   },
   "outputs": [
    {
     "name": "stdout",
     "output_type": "stream",
     "text": [
      "[0, 1, 2, 3, 4, 5, 6, 7, 8, 9, 10, 11, 12, 13, 14, 15, 16, 17, 18, 19, 20, 21, 22, 23]\n"
     ]
    }
   ],
   "source": [
    "# isolate the hour information from the full date and add as a column\n",
    "all_pickups['Pickup_hour'] = all_pickups['Pickup_date'].apply(lambda(x): int(x[11:13]))\n",
    "print sorted(all_pickups.Pickup_hour.unique())"
   ]
  },
  {
   "cell_type": "code",
   "execution_count": 180,
   "metadata": {
    "collapsed": false
   },
   "outputs": [
    {
     "name": "stdout",
     "output_type": "stream",
     "text": [
      "number of data points used in the Binomial case:  58045\n"
     ]
    },
    {
     "data": {
      "text/html": [
       "<div>\n",
       "<table border=\"1\" class=\"dataframe\">\n",
       "  <thead>\n",
       "    <tr style=\"text-align: right;\">\n",
       "      <th></th>\n",
       "      <th>Dispatching_base_num</th>\n",
       "      <th>Pickup_date</th>\n",
       "      <th>Affiliated_base_num</th>\n",
       "      <th>locationID</th>\n",
       "      <th>Pickup_hour</th>\n",
       "      <th>Pickup_day</th>\n",
       "    </tr>\n",
       "  </thead>\n",
       "  <tbody>\n",
       "    <tr>\n",
       "      <th>0</th>\n",
       "      <td>B02617</td>\n",
       "      <td>2015-05-17 09:47:00</td>\n",
       "      <td>B02617</td>\n",
       "      <td>141</td>\n",
       "      <td>9</td>\n",
       "      <td>2015-05-17</td>\n",
       "    </tr>\n",
       "    <tr>\n",
       "      <th>1</th>\n",
       "      <td>B02617</td>\n",
       "      <td>2015-05-17 09:47:00</td>\n",
       "      <td>B02617</td>\n",
       "      <td>65</td>\n",
       "      <td>9</td>\n",
       "      <td>2015-05-17</td>\n",
       "    </tr>\n",
       "    <tr>\n",
       "      <th>2</th>\n",
       "      <td>B02617</td>\n",
       "      <td>2015-05-17 09:47:00</td>\n",
       "      <td>B02617</td>\n",
       "      <td>100</td>\n",
       "      <td>9</td>\n",
       "      <td>2015-05-17</td>\n",
       "    </tr>\n",
       "  </tbody>\n",
       "</table>\n",
       "</div>"
      ],
      "text/plain": [
       "  Dispatching_base_num          Pickup_date Affiliated_base_num  locationID  \\\n",
       "0               B02617  2015-05-17 09:47:00              B02617         141   \n",
       "1               B02617  2015-05-17 09:47:00              B02617          65   \n",
       "2               B02617  2015-05-17 09:47:00              B02617         100   \n",
       "\n",
       "   Pickup_hour  Pickup_day  \n",
       "0            9  2015-05-17  \n",
       "1            9  2015-05-17  \n",
       "2            9  2015-05-17  "
      ]
     },
     "execution_count": 180,
     "metadata": {},
     "output_type": "execute_result"
    }
   ],
   "source": [
    "# isolate the day information from the full date and add as a column\n",
    "all_pickups['Pickup_day'] = all_pickups['Pickup_date'].apply(lambda(x): x[0:10])\n",
    "# let's just use a smaller data for faster plots, focus on 2015-01-01\n",
    "data = all_pickups.groupby('Pickup_day').get_group('2015-01-01') \n",
    "print 'number of data points used in the Binomial case: ', len(data)\n",
    "all_pickups[:3]"
   ]
  },
  {
   "cell_type": "code",
   "execution_count": 146,
   "metadata": {
    "collapsed": false
   },
   "outputs": [],
   "source": [
    "def plot_binomial(threshold):\n",
    "    n = float(len(data))\n",
    "    p = len(data[data['Pickup_hour'] < threshold])\n",
    "    q = len(data[data['Pickup_hour'] >= threshold])\n",
    "    if n == (p + q):\n",
    "        print 'p is 1 - q checks...'\n",
    "    else:\n",
    "        print 'something must be wrong'\n",
    "    X = []\n",
    "    X.append(p/n)\n",
    "    X.append(q/n)\n",
    "    print X\n",
    "    plt.bar([0,1], X)\n",
    "    plt.ylim(0,1)\n",
    "    plt.show()"
   ]
  },
  {
   "cell_type": "code",
   "execution_count": 148,
   "metadata": {
    "collapsed": false
   },
   "outputs": [
    {
     "name": "stdout",
     "output_type": "stream",
     "text": [
      "p is 1 - q checks...\n",
      "[0.7191489361702128, 0.28085106382978725]\n"
     ]
    },
    {
     "data": {
      "image/png": "[encoded data removed]",
      "text/plain": [
       "<matplotlib.figure.Figure at 0x109eff090>"
      ]
     },
     "metadata": {},
     "output_type": "display_data"
    }
   ],
   "source": [
    "# play with the slider to change the threshold hour\n",
    "interact(plot_binomial, threshold=(0, 24, 1));"
   ]
  },
  {
   "cell_type": "markdown",
   "metadata": {},
   "source": [
    "# 2. Geometric\n",
    "Let's assume that the time of a ride taken at a given location is independent of other locations, roughly. Given a location, the index (in the list of all rides in all locations) of finding the next UBER trip with that location can be modeled by the geometric distribution."
   ]
  },
  {
   "cell_type": "code",
   "execution_count": 177,
   "metadata": {
    "collapsed": false
   },
   "outputs": [],
   "source": [
    "def plot_geometric(loc_ID):\n",
    "    finding_times = []\n",
    "    t_current = all_pickups[all_pickups['locationID'] == loc_ID].index[0]\n",
    "    for t_next in all_pickups[all_pickups['locationID'] == loc_ID].index[1:]:\n",
    "        finding_times.append(t_next - t_current)\n",
    "        t_current = t_next\n",
    "    n_bins = 50\n",
    "    plt.hist(finding_times, n_bins, normed=True)\n",
    "    plt.show()"
   ]
  },
  {
   "cell_type": "code",
   "execution_count": 178,
   "metadata": {
    "collapsed": false
   },
   "outputs": [
    {
     "data": {
      "image/png": "[encoded data removed]",
      "text/plain": [
       "<matplotlib.figure.Figure at 0x1045eb450>"
      ]
     },
     "metadata": {},
     "output_type": "display_data"
    }
   ],
   "source": [
    "# play with the slider to change the threshold hour\n",
    "# use the below line to find the range of values...\n",
    "# sorted(all_pickups['locationID'].unique())\n",
    "interact(plot_geometric, loc_ID=(1, 265, 1));"
   ]
  },
  {
   "cell_type": "markdown",
   "metadata": {},
   "source": [
    "**Question:** Check loc id 100 and 99 for instance, why does one look like geometric and the other doesn't?"
   ]
  },
  {
   "cell_type": "markdown",
   "metadata": {},
   "source": [
    "# 3. Binomial\n"
   ]
  },
  {
   "cell_type": "code",
   "execution_count": null,
   "metadata": {
    "collapsed": true
   },
   "outputs": [],
   "source": []
  },
  {
   "cell_type": "code",
   "execution_count": null,
   "metadata": {
    "collapsed": true
   },
   "outputs": [],
   "source": []
  },
  {
   "cell_type": "code",
   "execution_count": null,
   "metadata": {
    "collapsed": true
   },
   "outputs": [],
   "source": []
  },
  {
   "cell_type": "code",
   "execution_count": null,
   "metadata": {
    "collapsed": true
   },
   "outputs": [],
   "source": []
  }
 ],
 "metadata": {
  "kernelspec": {
   "display_name": "Python 2",
   "language": "python",
   "name": "python2"
  },
  "language_info": {
   "codemirror_mode": {
    "name": "ipython",
    "version": 2
   },
   "file_extension": ".py",
   "mimetype": "text/x-python",
   "name": "python",
   "nbconvert_exporter": "python",
   "pygments_lexer": "ipython2",
   "version": "2.7.11"
  }
 },
 "nbformat": 4,
 "nbformat_minor": 0
}
