{
 "cells": [
  {
   "cell_type": "markdown",
   "metadata": {},
   "source": [
    "Let's review the important continuous distributions following the class notes at section 4.3:\n",
    "- Uniform: $X$ with $f_X(x) = \\frac{1}{b-a}$ on $[a, b]$ and 0 elsewhere\n",
    "- Exponential: $X$ with $f_X(x) = \\lambda e^{\\lambda x}$ for positive $x$\n",
    "- Gaussian: $X$ with $f_X(x) = \\frac{1}{\\sqrt{2\\pi}\\sigma} e^{-\\frac{(x-\\mu)^2}{2\\sigma^2}}$\n",
    "\n",
    "We will use the isolet spoken letter dataset.\n",
    "\n",
    "\"This data set was generated as follows.\n",
    " 150 subjects spoke the name of each letter of the alphabet twice.\n",
    " Hence, we have 52 training examples from each speaker.\n",
    " The speakers are grouped into sets of 30 speakers each, and are\n",
    " referred to as isolet1, isolet2, isolet3, isolet4, and isolet5.\n",
    " The data appears in isolet1+2+3+4.data in sequential order, first\n",
    " the speakers from isolet1, then isolet2, and so on.  The test\n",
    " set, isolet5, is a separate file.\""
   ]
  },
  {
   "cell_type": "code",
   "execution_count": 5,
   "metadata": {
    "collapsed": false
   },
   "outputs": [],
   "source": [
    "import pandas as pd\n",
    "import numpy as np\n",
    "import matplotlib.pyplot as plt\n",
    "%matplotlib inline\n",
    "from ipywidgets import interact"
   ]
  },
  {
   "cell_type": "markdown",
   "metadata": {},
   "source": [
    "- Clone the repo for data at https://github.com/fivethirtyeight/uber-tlc-foil-response.git \n",
    "- unzip uber-raw-data-janjune-15\n",
    "- modify the path below:"
   ]
  },
  {
   "cell_type": "code",
   "execution_count": 40,
   "metadata": {
    "collapsed": true
   },
   "outputs": [],
   "source": [
    "PATH_DATA = '/Users/leventsagun/Downloads/'"
   ]
  },
  {
   "cell_type": "code",
   "execution_count": null,
   "metadata": {
    "collapsed": true
   },
   "outputs": [],
   "source": [
    "isolet = pd.read_csv(PATH_DATA + 'isolet1+2+3+4.data', header=None)\n",
    "isolet_features = a.drop(617, axis=1)"
   ]
  },
  {
   "cell_type": "markdown",
   "metadata": {},
   "source": [
    "# 1. Uniform"
   ]
  },
  {
   "cell_type": "code",
   "execution_count": null,
   "metadata": {
    "collapsed": true
   },
   "outputs": [],
   "source": []
  },
  {
   "cell_type": "markdown",
   "metadata": {},
   "source": [
    "# 2. Exponential"
   ]
  },
  {
   "cell_type": "code",
   "execution_count": null,
   "metadata": {
    "collapsed": true
   },
   "outputs": [],
   "source": []
  },
  {
   "cell_type": "markdown",
   "metadata": {},
   "source": [
    "# 3. Gaussian\n",
    "Look at the norms of each row:"
   ]
  },
  {
   "cell_type": "code",
   "execution_count": 106,
   "metadata": {
    "collapsed": false
   },
   "outputs": [
    {
     "name": "stdout",
     "output_type": "stream",
     "text": [
      "15.6665118301 0.577099262971\n"
     ]
    },
    {
     "data": {
      "image/png": "[encoded data removed]",
      "text/plain": [
       "<matplotlib.figure.Figure at 0x128c562d0>"
      ]
     },
     "metadata": {},
     "output_type": "display_data"
    }
   ],
   "source": [
    "norms = []\n",
    "for i in isolet_features.index:\n",
    "    norms.append(np.linalg.norm(isolet_features.iloc[i]))\n",
    "    \n",
    "plt.hist(norms, 100, normed=True)\n",
    "mu, sigma = np.mean(norms), np.std(norms)\n",
    "print mu, sigma\n",
    "x = np.linspace(min(norms), max(norms), 100)\n",
    "y = (1/((np.sqrt(2*np.pi)*sigma)))*np.exp(-((x-mu)**2)/(2*sigma**2))\n",
    "plt.plot(x, y, 'r')\n",
    "plt.show()"
   ]
  },
  {
   "cell_type": "code",
   "execution_count": null,
   "metadata": {
    "collapsed": true
   },
   "outputs": [],
   "source": []
  },
  {
   "cell_type": "code",
   "execution_count": null,
   "metadata": {
    "collapsed": true
   },
   "outputs": [],
   "source": []
  },
  {
   "cell_type": "code",
   "execution_count": null,
   "metadata": {
    "collapsed": true
   },
   "outputs": [],
   "source": []
  },
  {
   "cell_type": "code",
   "execution_count": null,
   "metadata": {
    "collapsed": true
   },
   "outputs": [],
   "source": []
  },
  {
   "cell_type": "code",
   "execution_count": null,
   "metadata": {
    "collapsed": true
   },
   "outputs": [],
   "source": []
  },
  {
   "cell_type": "code",
   "execution_count": null,
   "metadata": {
    "collapsed": true
   },
   "outputs": [],
   "source": []
  }
 ],
 "metadata": {
  "kernelspec": {
   "display_name": "Python 2",
   "language": "python",
   "name": "python2"
  },
  "language_info": {
   "codemirror_mode": {
    "name": "ipython",
    "version": 2
   },
   "file_extension": ".py",
   "mimetype": "text/x-python",
   "name": "python",
   "nbconvert_exporter": "python",
   "pygments_lexer": "ipython2",
   "version": "2.7.11"
  }
 },
 "nbformat": 4,
 "nbformat_minor": 0
}
