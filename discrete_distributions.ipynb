{
 "cells": [
  {
   "cell_type": "markdown",
   "metadata": {},
   "source": [
    "# UBER pick-up data \n",
    "FiveThirtyEight generously shared the data they used for a few of their articles related to the UBER usage in New York. We will see how some of the distributions that we saw in class may appear in various kinds of questions we may ask about the data.\n",
    "\n",
    "- In order to make use of this Jupyter Notebook, you need to have pandas, numpy, scipy, matplotlib and ipywidgets packages. \n",
    "- To get the data, visit and clone https://github.com/caesar0301/awesome-public-datasets, and note the path to the repo. \n",
    "\n",
    "Here are the probability mass functions for the discrete distributions in the class notes at section 3.2:\n",
    "- Bernoulli: $X$ with $p_X(0) = p$ and $ p_X(1) = 1-p$\n",
    "- Geometric: $X$ with $p_X(k) = (1-p)^{k-1}p$\n",
    "- Binomial: $X$ with $p_X(k) = {n \\choose k} p^k(1-p)^{n-k}$\n",
    "- Poisson: $X$ with $p_X(k) = \\frac{\\lambda^ke^{-\\lambda}}{k!}$\n",
    "\n",
    "We will practice how to ask the right kind of questions that will give rise to the above distributions and we will check our results. \n",
    "\n",
    "*Note:* You will only need to submit your answers to the questions, no code submission is required. Also, the code is not intended to be efficient, but it is intended to allow you to easily play with it, feel free to change the script as you wish. "
   ]
  },
  {
   "cell_type": "code",
   "execution_count": 81,
   "metadata": {
    "collapsed": false
   },
   "outputs": [],
   "source": [
    "import pandas as pd\n",
    "import numpy as np\n",
    "import matplotlib.pyplot as plt\n",
    "import scipy, scipy.stats\n",
    "%matplotlib inline\n",
    "from ipywidgets import interact"
   ]
  },
  {
   "cell_type": "markdown",
   "metadata": {},
   "source": [
    "**WARNINGs**\n",
    "- Point PATH_DATA to the path where you cloned the above repository. \n",
    "- In the below code, only uber-raw-data-janjune-15.csv is being used, for the answers check what dates are asked. "
   ]
  },
  {
   "cell_type": "code",
   "execution_count": 6,
   "metadata": {
    "collapsed": false
   },
   "outputs": [
    {
     "data": {
      "text/html": [
       "<div>\n",
       "<table border=\"1\" class=\"dataframe\">\n",
       "  <thead>\n",
       "    <tr style=\"text-align: right;\">\n",
       "      <th></th>\n",
       "      <th>Dispatching_base_num</th>\n",
       "      <th>Pickup_date</th>\n",
       "      <th>Affiliated_base_num</th>\n",
       "      <th>locationID</th>\n",
       "    </tr>\n",
       "  </thead>\n",
       "  <tbody>\n",
       "    <tr>\n",
       "      <th>0</th>\n",
       "      <td>B02617</td>\n",
       "      <td>2015-05-17 09:47:00</td>\n",
       "      <td>B02617</td>\n",
       "      <td>141</td>\n",
       "    </tr>\n",
       "    <tr>\n",
       "      <th>1</th>\n",
       "      <td>B02617</td>\n",
       "      <td>2015-05-17 09:47:00</td>\n",
       "      <td>B02617</td>\n",
       "      <td>65</td>\n",
       "    </tr>\n",
       "    <tr>\n",
       "      <th>2</th>\n",
       "      <td>B02617</td>\n",
       "      <td>2015-05-17 09:47:00</td>\n",
       "      <td>B02617</td>\n",
       "      <td>100</td>\n",
       "    </tr>\n",
       "  </tbody>\n",
       "</table>\n",
       "</div>"
      ],
      "text/plain": [
       "  Dispatching_base_num          Pickup_date Affiliated_base_num  locationID\n",
       "0               B02617  2015-05-17 09:47:00              B02617         141\n",
       "1               B02617  2015-05-17 09:47:00              B02617          65\n",
       "2               B02617  2015-05-17 09:47:00              B02617         100"
      ]
     },
     "execution_count": 6,
     "metadata": {},
     "output_type": "execute_result"
    }
   ],
   "source": [
    "PATH_DATA = \"/Users/leventsagun/GitHub/uber-tlc-foil-response/uber-trip-data/\"\n",
    "all_pickups = pd.read_csv(PATH_DATA + 'uber-raw-data-janjune-15.csv')\n",
    "print 'Total number of data points: ', len(all_pickups)\n",
    "all_pickups[:3] "
   ]
  },
  {
   "cell_type": "markdown",
   "metadata": {},
   "source": [
    "# 1. Bernoulli\n",
    "For a given two time periods, we may wonder how many of the rides take place in each of them to compare the usage traffic in the given windows: What is the rate at which the rides are taking place in comparison to one another. Another way to ask this is the following, what is the chance of a randomly picked UBER ride has a pick-up date within the first time period? We can clearly model this with a Binomial variable."
   ]
  },
  {
   "cell_type": "code",
   "execution_count": 24,
   "metadata": {
    "collapsed": false
   },
   "outputs": [
    {
     "name": "stdout",
     "output_type": "stream",
     "text": [
      "possible pick-up hours:\n",
      "[0, 1, 2, 3, 4, 5, 6, 7, 8, 9, 10, 11, 12, 13, 14, 15, 16, 17, 18, 19, 20, 21, 22, 23]\n"
     ]
    }
   ],
   "source": [
    "# isolate the hour information from the full date and add as a column\n",
    "all_pickups['Pickup_hour'] = all_pickups['Pickup_date'].apply(lambda(x): int(x[11:13]))\n",
    "print 'possible pick-up hours:'\n",
    "print sorted(all_pickups.Pickup_hour.unique())"
   ]
  },
  {
   "cell_type": "code",
   "execution_count": 25,
   "metadata": {
    "collapsed": false
   },
   "outputs": [
    {
     "name": "stdout",
     "output_type": "stream",
     "text": [
      "number of data points used in the example Binomial case:  58045\n"
     ]
    },
    {
     "data": {
      "text/html": [
       "<div>\n",
       "<table border=\"1\" class=\"dataframe\">\n",
       "  <thead>\n",
       "    <tr style=\"text-align: right;\">\n",
       "      <th></th>\n",
       "      <th>Dispatching_base_num</th>\n",
       "      <th>Pickup_date</th>\n",
       "      <th>Affiliated_base_num</th>\n",
       "      <th>locationID</th>\n",
       "      <th>Pickup_hour</th>\n",
       "      <th>Pickup_day</th>\n",
       "    </tr>\n",
       "  </thead>\n",
       "  <tbody>\n",
       "    <tr>\n",
       "      <th>44141</th>\n",
       "      <td>B02598</td>\n",
       "      <td>2015-01-01 15:43:04</td>\n",
       "      <td>B02598</td>\n",
       "      <td>89</td>\n",
       "      <td>15</td>\n",
       "      <td>2015-01-01</td>\n",
       "    </tr>\n",
       "    <tr>\n",
       "      <th>44142</th>\n",
       "      <td>B02598</td>\n",
       "      <td>2015-01-01 17:09:38</td>\n",
       "      <td>B02598</td>\n",
       "      <td>148</td>\n",
       "      <td>17</td>\n",
       "      <td>2015-01-01</td>\n",
       "    </tr>\n",
       "    <tr>\n",
       "      <th>44143</th>\n",
       "      <td>B02598</td>\n",
       "      <td>2015-01-01 02:10:01</td>\n",
       "      <td>B02789</td>\n",
       "      <td>164</td>\n",
       "      <td>2</td>\n",
       "      <td>2015-01-01</td>\n",
       "    </tr>\n",
       "  </tbody>\n",
       "</table>\n",
       "</div>"
      ],
      "text/plain": [
       "      Dispatching_base_num          Pickup_date Affiliated_base_num  \\\n",
       "44141               B02598  2015-01-01 15:43:04              B02598   \n",
       "44142               B02598  2015-01-01 17:09:38              B02598   \n",
       "44143               B02598  2015-01-01 02:10:01              B02789   \n",
       "\n",
       "       locationID  Pickup_hour  Pickup_day  \n",
       "44141          89           15  2015-01-01  \n",
       "44142         148           17  2015-01-01  \n",
       "44143         164            2  2015-01-01  "
      ]
     },
     "execution_count": 25,
     "metadata": {},
     "output_type": "execute_result"
    }
   ],
   "source": [
    "# let's focus on 2015-01-01 by isolating the day information\n",
    "all_pickups['Pickup_day'] = all_pickups['Pickup_date'].apply(lambda(x): x[0:10])\n",
    "small_data = all_pickups.groupby('Pickup_day').get_group('2015-01-01') \n",
    "print 'number of data points used in the example Binomial case: ', len(small_data)\n",
    "small_data[:3]"
   ]
  },
  {
   "cell_type": "code",
   "execution_count": 60,
   "metadata": {
    "collapsed": false
   },
   "outputs": [
    {
     "data": {
      "image/png": "[encoded data removed]",
      "text/plain": [
       "<matplotlib.figure.Figure at 0x17dc21c50>"
      ]
     },
     "metadata": {},
     "output_type": "display_data"
    }
   ],
   "source": [
    "def get_p_before_threshold(threshold, data):\n",
    "    return len(data[data['Pickup_hour'] < threshold])/float(len(data))\n",
    "\n",
    "def plot_binomial(threshold):\n",
    "    p = get_p_before_threshold(threshold, small_data)\n",
    "    plt.bar([-0.1, 0.9], [p, 1 - p], width=0.2)\n",
    "    plt.ylim(0,1)\n",
    "    plt.show()\n",
    "    \n",
    "# play with the slider to change the threshold hour\n",
    "interact(plot_binomial, threshold=(0, 24, 1));"
   ]
  },
  {
   "cell_type": "markdown",
   "metadata": {},
   "source": [
    "# 2. Geometric\n",
    "In the time-ordered list of all rides in all locations for a given time window, look at a given a location. What is the index of finding the next UBER trip with that location? If we think that it is reasonable to assume that the time of a ride taken is independent of its location (at least roughly), then we can think of this problem as follows: At every index, we consider it a success to have a ride from the given location, and failure otherwise. This can be modeled by a geometric distribution."
   ]
  },
  {
   "cell_type": "code",
   "execution_count": 117,
   "metadata": {
    "collapsed": false
   },
   "outputs": [
    {
     "data": {
      "image/png": "[encoded data removed]",
      "text/plain": [
       "<matplotlib.figure.Figure at 0x11b4964d0>"
      ]
     },
     "metadata": {},
     "output_type": "display_data"
    }
   ],
   "source": [
    "def get_times(loc_ID):\n",
    "    finding_times = []\n",
    "    t_current = all_pickups[all_pickups['locationID'] == loc_ID].index[0]\n",
    "    for t_next in all_pickups[all_pickups['locationID'] == loc_ID].index[1:]:\n",
    "        finding_times.append(t_next - t_current)\n",
    "        t_current = t_next\n",
    "    return finding_times\n",
    "\n",
    "def plot_geometric(loc_ID):\n",
    "    times = get_times(loc_ID)\n",
    "    plt.hist(times, bins=50, normed=True)\n",
    "    # exponential fit\n",
    "    p = len(all_pickups[all_pickups['locationID'] == loc_ID])/float(len(all_pickups))\n",
    "    x = range(len(times))\n",
    "    y = scipy.stats.geom.pmf(x, p)\n",
    "    plt.plot(y, 'r')\n",
    "    plt.show()\n",
    "    \n",
    "interact(plot_geometric, loc_ID=(1, 265, 1));"
   ]
  },
  {
   "cell_type": "markdown",
   "metadata": {},
   "source": [
    "# 3. Binomial\n",
    "Each location zone is associated with a Borough. For every randomly picked 20 rides, how many of them will be picked up in Manhattan? We can model this problem with a Binomial variable with its empirical parameter. We can also repeatedly sample 20 rides, and observe how many turn out to be from Manhattan."
   ]
  },
  {
   "cell_type": "code",
   "execution_count": 143,
   "metadata": {
    "collapsed": false
   },
   "outputs": [
    {
     "data": {
      "text/html": [
       "<div>\n",
       "<table border=\"1\" class=\"dataframe\">\n",
       "  <thead>\n",
       "    <tr style=\"text-align: right;\">\n",
       "      <th></th>\n",
       "      <th>Dispatching_base_num</th>\n",
       "      <th>Pickup_date</th>\n",
       "      <th>Affiliated_base_num</th>\n",
       "      <th>locationID</th>\n",
       "      <th>Pickup_hour</th>\n",
       "      <th>Pickup_day</th>\n",
       "      <th>Borough</th>\n",
       "      <th>Zone</th>\n",
       "    </tr>\n",
       "  </thead>\n",
       "  <tbody>\n",
       "    <tr>\n",
       "      <th>605</th>\n",
       "      <td>B02598</td>\n",
       "      <td>2015-01-01 13:01:14</td>\n",
       "      <td>B02765</td>\n",
       "      <td>141</td>\n",
       "      <td>13</td>\n",
       "      <td>2015-01-01</td>\n",
       "      <td>Manhattan</td>\n",
       "      <td>Lenox Hill West</td>\n",
       "    </tr>\n",
       "    <tr>\n",
       "      <th>610</th>\n",
       "      <td>B02598</td>\n",
       "      <td>2015-01-01 13:54:04</td>\n",
       "      <td>B02598</td>\n",
       "      <td>141</td>\n",
       "      <td>13</td>\n",
       "      <td>2015-01-01</td>\n",
       "      <td>Manhattan</td>\n",
       "      <td>Lenox Hill West</td>\n",
       "    </tr>\n",
       "    <tr>\n",
       "      <th>611</th>\n",
       "      <td>B02598</td>\n",
       "      <td>2015-01-01 00:24:17</td>\n",
       "      <td>B02598</td>\n",
       "      <td>141</td>\n",
       "      <td>0</td>\n",
       "      <td>2015-01-01</td>\n",
       "      <td>Manhattan</td>\n",
       "      <td>Lenox Hill West</td>\n",
       "    </tr>\n",
       "  </tbody>\n",
       "</table>\n",
       "</div>"
      ],
      "text/plain": [
       "    Dispatching_base_num          Pickup_date Affiliated_base_num  locationID  \\\n",
       "605               B02598  2015-01-01 13:01:14              B02765         141   \n",
       "610               B02598  2015-01-01 13:54:04              B02598         141   \n",
       "611               B02598  2015-01-01 00:24:17              B02598         141   \n",
       "\n",
       "     Pickup_hour  Pickup_day    Borough             Zone  \n",
       "605           13  2015-01-01  Manhattan  Lenox Hill West  \n",
       "610           13  2015-01-01  Manhattan  Lenox Hill West  \n",
       "611            0  2015-01-01  Manhattan  Lenox Hill West  "
      ]
     },
     "execution_count": 143,
     "metadata": {},
     "output_type": "execute_result"
    }
   ],
   "source": [
    "zones = pd.read_csv(PATH_DATA + 'taxi-zone-lookup.csv').rename(columns={\"LocationID\": \"locationID\"})\n",
    "all_pickups_zones = all_pickups.merge(zones, how='inner', on='locationID')\n",
    "data = all_pickups_zones.groupby('Pickup_day').get_group('2015-01-01') # again focus on 2015-01-01\n",
    "data[:3]"
   ]
  },
  {
   "cell_type": "code",
   "execution_count": 144,
   "metadata": {
    "collapsed": false
   },
   "outputs": [
    {
     "name": "stdout",
     "output_type": "stream",
     "text": [
      "empirical average value:  13.1429063658\n"
     ]
    },
    {
     "data": {
      "image/png": "[encoded data removed]",
      "text/plain": [
       "<matplotlib.figure.Figure at 0x17e196890>"
      ]
     },
     "metadata": {},
     "output_type": "display_data"
    }
   ],
   "source": [
    "def plot_binomial(n):\n",
    "    p_empirical = len(data.groupby('Borough').get_group('Manhattan'))/float(len(data))\n",
    "    print 'empirical average value: ', p_empirical*n\n",
    "\n",
    "    k_observed = []\n",
    "    for i in range(1000):\n",
    "        idx = np.random.randint(0, len(data.index), n)\n",
    "        k_observed.append(len(data.iloc[idx].groupby('Borough').get_group('Manhattan')))\n",
    "\n",
    "    x = scipy.linspace(0, n, n+1)\n",
    "    binomial = scipy.stats.binom.pmf(x, n, p_empirical)\n",
    "    plt.hist(k_observed, max(k_observed) - min(k_observed) + 1, normed=True)\n",
    "    plt.plot(x, binomial, 'r')\n",
    "    plt.show()\n",
    "\n",
    "interact(plot_binomial, n=(1,40,1));"
   ]
  },
  {
   "cell_type": "markdown",
   "metadata": {},
   "source": [
    "# 4. Poisson\n",
    "Each location zone is associated with a Zone. If we randomly pick 200 rides, how many of them will be picked up in Greenpoint? We can model this problem with a Poisson variable with its empirical parameter, and we repeatedly sample and observe how many turn out to be from Greenpoint."
   ]
  },
  {
   "cell_type": "code",
   "execution_count": 145,
   "metadata": {
    "collapsed": false
   },
   "outputs": [
    {
     "name": "stdout",
     "output_type": "stream",
     "text": [
      "empirical value of the Poisson parameter:  3.22163838401\n"
     ]
    },
    {
     "data": {
      "image/png": "[encoded data removed]",
      "text/plain": [
       "<matplotlib.figure.Figure at 0x1ea5a3650>"
      ]
     },
     "metadata": {},
     "output_type": "display_data"
    },
    {
     "data": {
      "text/plain": [
       "<function __main__.plot_poisson>"
      ]
     },
     "execution_count": 145,
     "metadata": {},
     "output_type": "execute_result"
    }
   ],
   "source": [
    "def plot_poisson(n):\n",
    "    p_empirical = len(data.groupby('Zone').get_group('Greenpoint'))/float(len(data))\n",
    "    print 'empirical value of the Poisson parameter: ', p_empirical*n\n",
    "    k_experimental = []\n",
    "    for i in range(1500):\n",
    "        idx = np.random.randint(0, len(data.index), n)\n",
    "        data_temp = data.iloc[idx]\n",
    "        k_experimental.append(len(data_temp[data_temp['Zone'] == 'Greenpoint']))\n",
    "    plt.hist(k_experimental, normed=True)\n",
    "    x = scipy.linspace(0, n, n+1)\n",
    "    y = scipy.stats.poisson.pmf(x, n*p_empirical)\n",
    "    plt.xlim(0, 25)\n",
    "    plt.plot(x, y, 'r')\n",
    "    plt.show()\n",
    "\n",
    "interact(plot_poisson, n=(1,400,1))"
   ]
  },
  {
   "cell_type": "code",
   "execution_count": null,
   "metadata": {
    "collapsed": true
   },
   "outputs": [],
   "source": []
  }
 ],
 "metadata": {
  "anaconda-cloud": {},
  "kernelspec": {
   "display_name": "Python [Root]",
   "language": "python",
   "name": "Python [Root]"
  },
  "language_info": {
   "codemirror_mode": {
    "name": "ipython",
    "version": 2
   },
   "file_extension": ".py",
   "mimetype": "text/x-python",
   "name": "python",
   "nbconvert_exporter": "python",
   "pygments_lexer": "ipython2",
   "version": "2.7.11"
  }
 },
 "nbformat": 4,
 "nbformat_minor": 0
}
